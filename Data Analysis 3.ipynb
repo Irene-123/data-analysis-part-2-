{
 "cells": [
  {
   "cell_type": "code",
   "execution_count": 3,
   "metadata": {},
   "outputs": [
    {
     "name": "stdout",
     "output_type": "stream",
     "text": [
      "Mary,F,7065\r",
      "\r\n",
      "Anna,F,2604\r",
      "\r\n",
      "Emma,F,2003\r",
      "\r\n",
      "Elizabeth,F,1939\r",
      "\r\n",
      "Minnie,F,1746\r",
      "\r\n",
      "Margaret,F,1578\r",
      "\r\n",
      "Ida,F,1472\r",
      "\r\n",
      "Alice,F,1414\r",
      "\r\n",
      "Bertha,F,1320\r",
      "\r\n",
      "Sarah,F,1288\r",
      "\r\n"
     ]
    }
   ],
   "source": [
    " !head -n 10 /home/kirti/Desktop/yob1880.txt"
   ]
  },
  {
   "cell_type": "code",
   "execution_count": 4,
   "metadata": {},
   "outputs": [
    {
     "data": {
      "text/html": [
       "<div>\n",
       "<style scoped>\n",
       "    .dataframe tbody tr th:only-of-type {\n",
       "        vertical-align: middle;\n",
       "    }\n",
       "\n",
       "    .dataframe tbody tr th {\n",
       "        vertical-align: top;\n",
       "    }\n",
       "\n",
       "    .dataframe thead th {\n",
       "        text-align: right;\n",
       "    }\n",
       "</style>\n",
       "<table border=\"1\" class=\"dataframe\">\n",
       "  <thead>\n",
       "    <tr style=\"text-align: right;\">\n",
       "      <th></th>\n",
       "      <th>names</th>\n",
       "      <th>sex</th>\n",
       "      <th>births</th>\n",
       "    </tr>\n",
       "  </thead>\n",
       "  <tbody>\n",
       "    <tr>\n",
       "      <th>0</th>\n",
       "      <td>Mary</td>\n",
       "      <td>F</td>\n",
       "      <td>7065</td>\n",
       "    </tr>\n",
       "    <tr>\n",
       "      <th>1</th>\n",
       "      <td>Anna</td>\n",
       "      <td>F</td>\n",
       "      <td>2604</td>\n",
       "    </tr>\n",
       "    <tr>\n",
       "      <th>2</th>\n",
       "      <td>Emma</td>\n",
       "      <td>F</td>\n",
       "      <td>2003</td>\n",
       "    </tr>\n",
       "    <tr>\n",
       "      <th>3</th>\n",
       "      <td>Elizabeth</td>\n",
       "      <td>F</td>\n",
       "      <td>1939</td>\n",
       "    </tr>\n",
       "    <tr>\n",
       "      <th>4</th>\n",
       "      <td>Minnie</td>\n",
       "      <td>F</td>\n",
       "      <td>1746</td>\n",
       "    </tr>\n",
       "    <tr>\n",
       "      <th>5</th>\n",
       "      <td>Margaret</td>\n",
       "      <td>F</td>\n",
       "      <td>1578</td>\n",
       "    </tr>\n",
       "    <tr>\n",
       "      <th>6</th>\n",
       "      <td>Ida</td>\n",
       "      <td>F</td>\n",
       "      <td>1472</td>\n",
       "    </tr>\n",
       "    <tr>\n",
       "      <th>7</th>\n",
       "      <td>Alice</td>\n",
       "      <td>F</td>\n",
       "      <td>1414</td>\n",
       "    </tr>\n",
       "    <tr>\n",
       "      <th>8</th>\n",
       "      <td>Bertha</td>\n",
       "      <td>F</td>\n",
       "      <td>1320</td>\n",
       "    </tr>\n",
       "    <tr>\n",
       "      <th>9</th>\n",
       "      <td>Sarah</td>\n",
       "      <td>F</td>\n",
       "      <td>1288</td>\n",
       "    </tr>\n",
       "  </tbody>\n",
       "</table>\n",
       "</div>"
      ],
      "text/plain": [
       "       names sex  births\n",
       "0       Mary   F    7065\n",
       "1       Anna   F    2604\n",
       "2       Emma   F    2003\n",
       "3  Elizabeth   F    1939\n",
       "4     Minnie   F    1746\n",
       "5   Margaret   F    1578\n",
       "6        Ida   F    1472\n",
       "7      Alice   F    1414\n",
       "8     Bertha   F    1320\n",
       "9      Sarah   F    1288"
      ]
     },
     "execution_count": 4,
     "metadata": {},
     "output_type": "execute_result"
    }
   ],
   "source": [
    "import pandas as pd\n",
    "names1880=pd.read_csv('/home/kirti/Desktop/yob1880.txt' ,names=['names','sex','births'])\n",
    "names1880[:10]"
   ]
  },
  {
   "cell_type": "code",
   "execution_count": 5,
   "metadata": {},
   "outputs": [
    {
     "data": {
      "text/html": [
       "<div>\n",
       "<style scoped>\n",
       "    .dataframe tbody tr th:only-of-type {\n",
       "        vertical-align: middle;\n",
       "    }\n",
       "\n",
       "    .dataframe tbody tr th {\n",
       "        vertical-align: top;\n",
       "    }\n",
       "\n",
       "    .dataframe thead th {\n",
       "        text-align: right;\n",
       "    }\n",
       "</style>\n",
       "<table border=\"1\" class=\"dataframe\">\n",
       "  <thead>\n",
       "    <tr style=\"text-align: right;\">\n",
       "      <th></th>\n",
       "      <th>births</th>\n",
       "    </tr>\n",
       "    <tr>\n",
       "      <th>sex</th>\n",
       "      <th></th>\n",
       "    </tr>\n",
       "  </thead>\n",
       "  <tbody>\n",
       "    <tr>\n",
       "      <th>F</th>\n",
       "      <td>90994</td>\n",
       "    </tr>\n",
       "    <tr>\n",
       "      <th>M</th>\n",
       "      <td>110490</td>\n",
       "    </tr>\n",
       "  </tbody>\n",
       "</table>\n",
       "</div>"
      ],
      "text/plain": [
       "     births\n",
       "sex        \n",
       "F     90994\n",
       "M    110490"
      ]
     },
     "execution_count": 5,
     "metadata": {},
     "output_type": "execute_result"
    }
   ],
   "source": [
    "names1880.groupby('sex').sum()"
   ]
  },
  {
   "cell_type": "code",
   "execution_count": 6,
   "metadata": {},
   "outputs": [
    {
     "data": {
      "text/html": [
       "<div>\n",
       "<style scoped>\n",
       "    .dataframe tbody tr th:only-of-type {\n",
       "        vertical-align: middle;\n",
       "    }\n",
       "\n",
       "    .dataframe tbody tr th {\n",
       "        vertical-align: top;\n",
       "    }\n",
       "\n",
       "    .dataframe thead th {\n",
       "        text-align: right;\n",
       "    }\n",
       "</style>\n",
       "<table border=\"1\" class=\"dataframe\">\n",
       "  <thead>\n",
       "    <tr style=\"text-align: right;\">\n",
       "      <th></th>\n",
       "      <th>name</th>\n",
       "      <th>sex</th>\n",
       "      <th>births</th>\n",
       "      <th>year</th>\n",
       "    </tr>\n",
       "  </thead>\n",
       "  <tbody>\n",
       "    <tr>\n",
       "      <th>0</th>\n",
       "      <td>Mary</td>\n",
       "      <td>F</td>\n",
       "      <td>7065</td>\n",
       "      <td>1880</td>\n",
       "    </tr>\n",
       "    <tr>\n",
       "      <th>1</th>\n",
       "      <td>Anna</td>\n",
       "      <td>F</td>\n",
       "      <td>2604</td>\n",
       "      <td>1880</td>\n",
       "    </tr>\n",
       "    <tr>\n",
       "      <th>2</th>\n",
       "      <td>Emma</td>\n",
       "      <td>F</td>\n",
       "      <td>2003</td>\n",
       "      <td>1880</td>\n",
       "    </tr>\n",
       "    <tr>\n",
       "      <th>3</th>\n",
       "      <td>Elizabeth</td>\n",
       "      <td>F</td>\n",
       "      <td>1939</td>\n",
       "      <td>1880</td>\n",
       "    </tr>\n",
       "    <tr>\n",
       "      <th>4</th>\n",
       "      <td>Minnie</td>\n",
       "      <td>F</td>\n",
       "      <td>1746</td>\n",
       "      <td>1880</td>\n",
       "    </tr>\n",
       "    <tr>\n",
       "      <th>...</th>\n",
       "      <td>...</td>\n",
       "      <td>...</td>\n",
       "      <td>...</td>\n",
       "      <td>...</td>\n",
       "    </tr>\n",
       "    <tr>\n",
       "      <th>1692107</th>\n",
       "      <td>Zymaire</td>\n",
       "      <td>M</td>\n",
       "      <td>5</td>\n",
       "      <td>2010</td>\n",
       "    </tr>\n",
       "    <tr>\n",
       "      <th>1692108</th>\n",
       "      <td>Zyonne</td>\n",
       "      <td>M</td>\n",
       "      <td>5</td>\n",
       "      <td>2010</td>\n",
       "    </tr>\n",
       "    <tr>\n",
       "      <th>1692109</th>\n",
       "      <td>Zyquarius</td>\n",
       "      <td>M</td>\n",
       "      <td>5</td>\n",
       "      <td>2010</td>\n",
       "    </tr>\n",
       "    <tr>\n",
       "      <th>1692110</th>\n",
       "      <td>Zyran</td>\n",
       "      <td>M</td>\n",
       "      <td>5</td>\n",
       "      <td>2010</td>\n",
       "    </tr>\n",
       "    <tr>\n",
       "      <th>1692111</th>\n",
       "      <td>Zzyzx</td>\n",
       "      <td>M</td>\n",
       "      <td>5</td>\n",
       "      <td>2010</td>\n",
       "    </tr>\n",
       "  </tbody>\n",
       "</table>\n",
       "<p>1692112 rows × 4 columns</p>\n",
       "</div>"
      ],
      "text/plain": [
       "              name sex  births  year\n",
       "0             Mary   F    7065  1880\n",
       "1             Anna   F    2604  1880\n",
       "2             Emma   F    2003  1880\n",
       "3        Elizabeth   F    1939  1880\n",
       "4           Minnie   F    1746  1880\n",
       "...            ...  ..     ...   ...\n",
       "1692107    Zymaire   M       5  2010\n",
       "1692108     Zyonne   M       5  2010\n",
       "1692109  Zyquarius   M       5  2010\n",
       "1692110      Zyran   M       5  2010\n",
       "1692111      Zzyzx   M       5  2010\n",
       "\n",
       "[1692112 rows x 4 columns]"
      ]
     },
     "execution_count": 6,
     "metadata": {},
     "output_type": "execute_result"
    }
   ],
   "source": [
    "years=range(1880,2011)\n",
    "pieces=[]\n",
    "columns=['name','sex','births']\n",
    "for year in years:\n",
    "    path='/home/kirti/Desktop/yob%d.txt'%year\n",
    "    frame=pd.read_csv(path,names=columns)\n",
    "    frame['year']=year\n",
    "    pieces.append(frame)\n",
    "names=pd.concat(pieces,ignore_index=True)   \n",
    "names"
   ]
  },
  {
   "cell_type": "code",
   "execution_count": 7,
   "metadata": {},
   "outputs": [
    {
     "data": {
      "text/html": [
       "<div>\n",
       "<style scoped>\n",
       "    .dataframe tbody tr th:only-of-type {\n",
       "        vertical-align: middle;\n",
       "    }\n",
       "\n",
       "    .dataframe tbody tr th {\n",
       "        vertical-align: top;\n",
       "    }\n",
       "\n",
       "    .dataframe thead th {\n",
       "        text-align: right;\n",
       "    }\n",
       "</style>\n",
       "<table border=\"1\" class=\"dataframe\">\n",
       "  <thead>\n",
       "    <tr style=\"text-align: right;\">\n",
       "      <th>sex</th>\n",
       "      <th>F</th>\n",
       "      <th>M</th>\n",
       "    </tr>\n",
       "    <tr>\n",
       "      <th>year</th>\n",
       "      <th></th>\n",
       "      <th></th>\n",
       "    </tr>\n",
       "  </thead>\n",
       "  <tbody>\n",
       "    <tr>\n",
       "      <th>1880</th>\n",
       "      <td>90994</td>\n",
       "      <td>110490</td>\n",
       "    </tr>\n",
       "    <tr>\n",
       "      <th>1881</th>\n",
       "      <td>91953</td>\n",
       "      <td>100743</td>\n",
       "    </tr>\n",
       "    <tr>\n",
       "      <th>1882</th>\n",
       "      <td>107847</td>\n",
       "      <td>113686</td>\n",
       "    </tr>\n",
       "    <tr>\n",
       "      <th>1883</th>\n",
       "      <td>112319</td>\n",
       "      <td>104625</td>\n",
       "    </tr>\n",
       "    <tr>\n",
       "      <th>1884</th>\n",
       "      <td>129019</td>\n",
       "      <td>114442</td>\n",
       "    </tr>\n",
       "    <tr>\n",
       "      <th>1885</th>\n",
       "      <td>133055</td>\n",
       "      <td>107799</td>\n",
       "    </tr>\n",
       "    <tr>\n",
       "      <th>1886</th>\n",
       "      <td>144533</td>\n",
       "      <td>110785</td>\n",
       "    </tr>\n",
       "    <tr>\n",
       "      <th>1887</th>\n",
       "      <td>145981</td>\n",
       "      <td>101412</td>\n",
       "    </tr>\n",
       "    <tr>\n",
       "      <th>1888</th>\n",
       "      <td>178622</td>\n",
       "      <td>120851</td>\n",
       "    </tr>\n",
       "    <tr>\n",
       "      <th>1889</th>\n",
       "      <td>178366</td>\n",
       "      <td>110580</td>\n",
       "    </tr>\n",
       "  </tbody>\n",
       "</table>\n",
       "</div>"
      ],
      "text/plain": [
       "sex        F       M\n",
       "year                \n",
       "1880   90994  110490\n",
       "1881   91953  100743\n",
       "1882  107847  113686\n",
       "1883  112319  104625\n",
       "1884  129019  114442\n",
       "1885  133055  107799\n",
       "1886  144533  110785\n",
       "1887  145981  101412\n",
       "1888  178622  120851\n",
       "1889  178366  110580"
      ]
     },
     "execution_count": 7,
     "metadata": {},
     "output_type": "execute_result"
    }
   ],
   "source": [
    "total_births=names.pivot_table('births', index='year' ,columns='sex' ,aggfunc=sum)\n",
    "total_births[:10]"
   ]
  },
  {
   "cell_type": "code",
   "execution_count": 8,
   "metadata": {},
   "outputs": [],
   "source": [
    "%matplotlib inline\n",
    "\n",
    "import matplotlib\n",
    "import numpy as np\n",
    "import matplotlib.pyplot as plt"
   ]
  },
  {
   "cell_type": "code",
   "execution_count": 9,
   "metadata": {},
   "outputs": [
    {
     "data": {
      "text/plain": [
       "<AxesSubplot:title={'center':'Total births by sex and year'}, xlabel='year'>"
      ]
     },
     "execution_count": 9,
     "metadata": {},
     "output_type": "execute_result"
    },
    {
     "data": {
      "image/png": "[encoded data removed]",
      "text/plain": [
       "<Figure size 432x288 with 1 Axes>"
      ]
     },
     "metadata": {
      "needs_background": "light"
     },
     "output_type": "display_data"
    }
   ],
   "source": [
    " total_births.plot(title='Total births by sex and year')"
   ]
  },
  {
   "cell_type": "code",
   "execution_count": 10,
   "metadata": {},
   "outputs": [
    {
     "data": {
      "text/html": [
       "<div>\n",
       "<style scoped>\n",
       "    .dataframe tbody tr th:only-of-type {\n",
       "        vertical-align: middle;\n",
       "    }\n",
       "\n",
       "    .dataframe tbody tr th {\n",
       "        vertical-align: top;\n",
       "    }\n",
       "\n",
       "    .dataframe thead th {\n",
       "        text-align: right;\n",
       "    }\n",
       "</style>\n",
       "<table border=\"1\" class=\"dataframe\">\n",
       "  <thead>\n",
       "    <tr style=\"text-align: right;\">\n",
       "      <th></th>\n",
       "      <th>name</th>\n",
       "      <th>sex</th>\n",
       "      <th>births</th>\n",
       "      <th>year</th>\n",
       "      <th>prop</th>\n",
       "    </tr>\n",
       "  </thead>\n",
       "  <tbody>\n",
       "    <tr>\n",
       "      <th>0</th>\n",
       "      <td>Mary</td>\n",
       "      <td>F</td>\n",
       "      <td>7065</td>\n",
       "      <td>1880</td>\n",
       "      <td>0.077642</td>\n",
       "    </tr>\n",
       "    <tr>\n",
       "      <th>1</th>\n",
       "      <td>Anna</td>\n",
       "      <td>F</td>\n",
       "      <td>2604</td>\n",
       "      <td>1880</td>\n",
       "      <td>0.028617</td>\n",
       "    </tr>\n",
       "    <tr>\n",
       "      <th>2</th>\n",
       "      <td>Emma</td>\n",
       "      <td>F</td>\n",
       "      <td>2003</td>\n",
       "      <td>1880</td>\n",
       "      <td>0.022012</td>\n",
       "    </tr>\n",
       "    <tr>\n",
       "      <th>3</th>\n",
       "      <td>Elizabeth</td>\n",
       "      <td>F</td>\n",
       "      <td>1939</td>\n",
       "      <td>1880</td>\n",
       "      <td>0.021309</td>\n",
       "    </tr>\n",
       "    <tr>\n",
       "      <th>4</th>\n",
       "      <td>Minnie</td>\n",
       "      <td>F</td>\n",
       "      <td>1746</td>\n",
       "      <td>1880</td>\n",
       "      <td>0.019188</td>\n",
       "    </tr>\n",
       "    <tr>\n",
       "      <th>...</th>\n",
       "      <td>...</td>\n",
       "      <td>...</td>\n",
       "      <td>...</td>\n",
       "      <td>...</td>\n",
       "      <td>...</td>\n",
       "    </tr>\n",
       "    <tr>\n",
       "      <th>1692107</th>\n",
       "      <td>Zymaire</td>\n",
       "      <td>M</td>\n",
       "      <td>5</td>\n",
       "      <td>2010</td>\n",
       "      <td>0.000003</td>\n",
       "    </tr>\n",
       "    <tr>\n",
       "      <th>1692108</th>\n",
       "      <td>Zyonne</td>\n",
       "      <td>M</td>\n",
       "      <td>5</td>\n",
       "      <td>2010</td>\n",
       "      <td>0.000003</td>\n",
       "    </tr>\n",
       "    <tr>\n",
       "      <th>1692109</th>\n",
       "      <td>Zyquarius</td>\n",
       "      <td>M</td>\n",
       "      <td>5</td>\n",
       "      <td>2010</td>\n",
       "      <td>0.000003</td>\n",
       "    </tr>\n",
       "    <tr>\n",
       "      <th>1692110</th>\n",
       "      <td>Zyran</td>\n",
       "      <td>M</td>\n",
       "      <td>5</td>\n",
       "      <td>2010</td>\n",
       "      <td>0.000003</td>\n",
       "    </tr>\n",
       "    <tr>\n",
       "      <th>1692111</th>\n",
       "      <td>Zzyzx</td>\n",
       "      <td>M</td>\n",
       "      <td>5</td>\n",
       "      <td>2010</td>\n",
       "      <td>0.000003</td>\n",
       "    </tr>\n",
       "  </tbody>\n",
       "</table>\n",
       "<p>1692112 rows × 5 columns</p>\n",
       "</div>"
      ],
      "text/plain": [
       "              name sex  births  year      prop\n",
       "0             Mary   F    7065  1880  0.077642\n",
       "1             Anna   F    2604  1880  0.028617\n",
       "2             Emma   F    2003  1880  0.022012\n",
       "3        Elizabeth   F    1939  1880  0.021309\n",
       "4           Minnie   F    1746  1880  0.019188\n",
       "...            ...  ..     ...   ...       ...\n",
       "1692107    Zymaire   M       5  2010  0.000003\n",
       "1692108     Zyonne   M       5  2010  0.000003\n",
       "1692109  Zyquarius   M       5  2010  0.000003\n",
       "1692110      Zyran   M       5  2010  0.000003\n",
       "1692111      Zzyzx   M       5  2010  0.000003\n",
       "\n",
       "[1692112 rows x 5 columns]"
      ]
     },
     "execution_count": 10,
     "metadata": {},
     "output_type": "execute_result"
    }
   ],
   "source": [
    "def add_prop(group):\n",
    " # Integer division floors\n",
    " births = group.births.astype(float)\n",
    " group['prop'] = births / births.sum()\n",
    " return group\n",
    "names = names.groupby(['year', 'sex']).apply(add_prop)\n",
    "names"
   ]
  },
  {
   "cell_type": "code",
   "execution_count": 11,
   "metadata": {},
   "outputs": [
    {
     "data": {
      "text/plain": [
       "True"
      ]
     },
     "execution_count": 11,
     "metadata": {},
     "output_type": "execute_result"
    }
   ],
   "source": [
    "np.allclose(names.groupby(['year','sex']).prop.sum(),1)"
   ]
  },
  {
   "cell_type": "code",
   "execution_count": 12,
   "metadata": {},
   "outputs": [],
   "source": [
    "pieces = []\n",
    "for year, group in names.groupby(['year', 'sex']):\n",
    " pieces.append(group.sort_values(by='births', ascending=False)[:1000])\n",
    "top1000 = pd.concat(pieces, ignore_index=True)"
   ]
  },
  {
   "cell_type": "code",
   "execution_count": 13,
   "metadata": {},
   "outputs": [],
   "source": [
    "boys=top1000[top1000.sex=='M']\n",
    "girls=top1000[top1000.sex=='F']"
   ]
  },
  {
   "cell_type": "code",
   "execution_count": 14,
   "metadata": {},
   "outputs": [],
   "source": [
    "total_births=top1000.pivot_table('births', index='year', columns='name' ,aggfunc=sum)\n"
   ]
  },
  {
   "cell_type": "code",
   "execution_count": 15,
   "metadata": {},
   "outputs": [],
   "source": [
    "subsets=total_births[['John', 'Harry','Mary','Marilyn']]"
   ]
  },
  {
   "cell_type": "code",
   "execution_count": 16,
   "metadata": {},
   "outputs": [
    {
     "data": {
      "text/plain": [
       "array([<AxesSubplot:xlabel='year'>, <AxesSubplot:xlabel='year'>,\n",
       "       <AxesSubplot:xlabel='year'>, <AxesSubplot:xlabel='year'>],\n",
       "      dtype=object)"
      ]
     },
     "execution_count": 16,
     "metadata": {},
     "output_type": "execute_result"
    },
    {
     "data": {
      "image/png": "[encoded data removed]",
      "text/plain": [
       "<Figure size 864x720 with 4 Axes>"
      ]
     },
     "metadata": {
      "needs_background": "light"
     },
     "output_type": "display_data"
    }
   ],
   "source": [
    "subsets.plot(subplots=True, figsize=(12,10), grid=False ,title=\"Number of Births per year\")"
   ]
  },
  {
   "cell_type": "code",
   "execution_count": 17,
   "metadata": {},
   "outputs": [],
   "source": [
    "table=top1000.pivot_table('prop' ,index='year' , columns='sex' , aggfunc=sum)"
   ]
  },
  {
   "cell_type": "code",
   "execution_count": 18,
   "metadata": {},
   "outputs": [
    {
     "data": {
      "text/plain": [
       "<AxesSubplot:title={'center':'Sum of table1000.prop by year and sex'}, xlabel='year'>"
      ]
     },
     "execution_count": 18,
     "metadata": {},
     "output_type": "execute_result"
    },
    {
     "data": {
      "image/png": "[encoded data removed]",
      "text/plain": [
       "<Figure size 432x288 with 1 Axes>"
      ]
     },
     "metadata": {
      "needs_background": "light"
     },
     "output_type": "display_data"
    }
   ],
   "source": [
    "table.plot(title='Sum of table1000.prop by year and sex' , yticks=np.linspace(0,1.2,13) ,xticks=range(1880,2011,10))"
   ]
  },
  {
   "cell_type": "code",
   "execution_count": 19,
   "metadata": {},
   "outputs": [
    {
     "data": {
      "text/html": [
       "<div>\n",
       "<style scoped>\n",
       "    .dataframe tbody tr th:only-of-type {\n",
       "        vertical-align: middle;\n",
       "    }\n",
       "\n",
       "    .dataframe tbody tr th {\n",
       "        vertical-align: top;\n",
       "    }\n",
       "\n",
       "    .dataframe thead th {\n",
       "        text-align: right;\n",
       "    }\n",
       "</style>\n",
       "<table border=\"1\" class=\"dataframe\">\n",
       "  <thead>\n",
       "    <tr style=\"text-align: right;\">\n",
       "      <th></th>\n",
       "      <th>name</th>\n",
       "      <th>sex</th>\n",
       "      <th>births</th>\n",
       "      <th>year</th>\n",
       "      <th>prop</th>\n",
       "    </tr>\n",
       "  </thead>\n",
       "  <tbody>\n",
       "    <tr>\n",
       "      <th>260877</th>\n",
       "      <td>Jacob</td>\n",
       "      <td>M</td>\n",
       "      <td>22127</td>\n",
       "      <td>2010</td>\n",
       "      <td>0.011546</td>\n",
       "    </tr>\n",
       "    <tr>\n",
       "      <th>260878</th>\n",
       "      <td>Ethan</td>\n",
       "      <td>M</td>\n",
       "      <td>18002</td>\n",
       "      <td>2010</td>\n",
       "      <td>0.009393</td>\n",
       "    </tr>\n",
       "    <tr>\n",
       "      <th>260879</th>\n",
       "      <td>Michael</td>\n",
       "      <td>M</td>\n",
       "      <td>17350</td>\n",
       "      <td>2010</td>\n",
       "      <td>0.009053</td>\n",
       "    </tr>\n",
       "    <tr>\n",
       "      <th>260880</th>\n",
       "      <td>Jayden</td>\n",
       "      <td>M</td>\n",
       "      <td>17179</td>\n",
       "      <td>2010</td>\n",
       "      <td>0.008964</td>\n",
       "    </tr>\n",
       "    <tr>\n",
       "      <th>260881</th>\n",
       "      <td>William</td>\n",
       "      <td>M</td>\n",
       "      <td>17051</td>\n",
       "      <td>2010</td>\n",
       "      <td>0.008897</td>\n",
       "    </tr>\n",
       "    <tr>\n",
       "      <th>...</th>\n",
       "      <td>...</td>\n",
       "      <td>...</td>\n",
       "      <td>...</td>\n",
       "      <td>...</td>\n",
       "      <td>...</td>\n",
       "    </tr>\n",
       "    <tr>\n",
       "      <th>261872</th>\n",
       "      <td>Destin</td>\n",
       "      <td>M</td>\n",
       "      <td>196</td>\n",
       "      <td>2010</td>\n",
       "      <td>0.000102</td>\n",
       "    </tr>\n",
       "    <tr>\n",
       "      <th>261873</th>\n",
       "      <td>Eliezer</td>\n",
       "      <td>M</td>\n",
       "      <td>196</td>\n",
       "      <td>2010</td>\n",
       "      <td>0.000102</td>\n",
       "    </tr>\n",
       "    <tr>\n",
       "      <th>261874</th>\n",
       "      <td>Enoch</td>\n",
       "      <td>M</td>\n",
       "      <td>196</td>\n",
       "      <td>2010</td>\n",
       "      <td>0.000102</td>\n",
       "    </tr>\n",
       "    <tr>\n",
       "      <th>261875</th>\n",
       "      <td>Joziah</td>\n",
       "      <td>M</td>\n",
       "      <td>196</td>\n",
       "      <td>2010</td>\n",
       "      <td>0.000102</td>\n",
       "    </tr>\n",
       "    <tr>\n",
       "      <th>261876</th>\n",
       "      <td>Keshawn</td>\n",
       "      <td>M</td>\n",
       "      <td>196</td>\n",
       "      <td>2010</td>\n",
       "      <td>0.000102</td>\n",
       "    </tr>\n",
       "  </tbody>\n",
       "</table>\n",
       "<p>1000 rows × 5 columns</p>\n",
       "</div>"
      ],
      "text/plain": [
       "           name sex  births  year      prop\n",
       "260877    Jacob   M   22127  2010  0.011546\n",
       "260878    Ethan   M   18002  2010  0.009393\n",
       "260879  Michael   M   17350  2010  0.009053\n",
       "260880   Jayden   M   17179  2010  0.008964\n",
       "260881  William   M   17051  2010  0.008897\n",
       "...         ...  ..     ...   ...       ...\n",
       "261872   Destin   M     196  2010  0.000102\n",
       "261873  Eliezer   M     196  2010  0.000102\n",
       "261874    Enoch   M     196  2010  0.000102\n",
       "261875   Joziah   M     196  2010  0.000102\n",
       "261876  Keshawn   M     196  2010  0.000102\n",
       "\n",
       "[1000 rows x 5 columns]"
      ]
     },
     "execution_count": 19,
     "metadata": {},
     "output_type": "execute_result"
    }
   ],
   "source": [
    "df=boys[boys.year==2010]\n",
    "df"
   ]
  },
  {
   "cell_type": "code",
   "execution_count": 20,
   "metadata": {},
   "outputs": [
    {
     "data": {
      "text/plain": [
       "260877    0.011546\n",
       "260878    0.020939\n",
       "260879    0.029992\n",
       "260880    0.038956\n",
       "260881    0.047853\n",
       "260882    0.056596\n",
       "260883    0.065180\n",
       "260884    0.073447\n",
       "260885    0.081554\n",
       "260886    0.089638\n",
       "Name: prop, dtype: float64"
      ]
     },
     "execution_count": 20,
     "metadata": {},
     "output_type": "execute_result"
    }
   ],
   "source": [
    "prop_cumsum=df.sort_values(by='prop',ascending=False ).prop.cumsum()\n",
    "prop_cumsum[:10]"
   ]
  },
  {
   "cell_type": "code",
   "execution_count": 21,
   "metadata": {},
   "outputs": [
    {
     "data": {
      "text/plain": [
       "116"
      ]
     },
     "execution_count": 21,
     "metadata": {},
     "output_type": "execute_result"
    }
   ],
   "source": [
    "prop_cumsum.searchsorted(0.5)"
   ]
  },
  {
   "cell_type": "code",
   "execution_count": 22,
   "metadata": {},
   "outputs": [
    {
     "data": {
      "text/plain": [
       "40877    0.065318\n",
       "40878    0.122329\n",
       "40879    0.170474\n",
       "40880    0.206380\n",
       "40881    0.233612\n",
       "40882    0.259005\n",
       "40883    0.283686\n",
       "40884    0.306792\n",
       "40885    0.324867\n",
       "40886    0.342185\n",
       "Name: prop, dtype: float64"
      ]
     },
     "execution_count": 22,
     "metadata": {},
     "output_type": "execute_result"
    }
   ],
   "source": [
    "df=boys[boys.year==1900]\n",
    "in1900=df.sort_values(by='prop' ,ascending=False).prop.cumsum()\n",
    "in1900[:10]"
   ]
  },
  {
   "cell_type": "code",
   "execution_count": 23,
   "metadata": {},
   "outputs": [
    {
     "data": {
      "text/plain": [
       "25"
      ]
     },
     "execution_count": 23,
     "metadata": {},
     "output_type": "execute_result"
    }
   ],
   "source": [
    "in1900.searchsorted(0.5)+1"
   ]
  },
  {
   "cell_type": "code",
   "execution_count": 24,
   "metadata": {},
   "outputs": [],
   "source": [
    "def get_quantile_count(group,q=0.5):\n",
    "    group=group.sort_values(by='prop', ascending=False)\n",
    "    return group.prop.cumsum().searchsorted(q)+1\n"
   ]
  },
  {
   "cell_type": "code",
   "execution_count": 25,
   "metadata": {},
   "outputs": [],
   "source": [
    "diversity=top1000.groupby(['year','sex']).apply(get_quantile_count)\n",
    "diversity=diversity.unstack('sex')"
   ]
  },
  {
   "cell_type": "code",
   "execution_count": 26,
   "metadata": {},
   "outputs": [
    {
     "data": {
      "text/html": [
       "<div>\n",
       "<style scoped>\n",
       "    .dataframe tbody tr th:only-of-type {\n",
       "        vertical-align: middle;\n",
       "    }\n",
       "\n",
       "    .dataframe tbody tr th {\n",
       "        vertical-align: top;\n",
       "    }\n",
       "\n",
       "    .dataframe thead th {\n",
       "        text-align: right;\n",
       "    }\n",
       "</style>\n",
       "<table border=\"1\" class=\"dataframe\">\n",
       "  <thead>\n",
       "    <tr style=\"text-align: right;\">\n",
       "      <th>sex</th>\n",
       "      <th>F</th>\n",
       "      <th>M</th>\n",
       "    </tr>\n",
       "    <tr>\n",
       "      <th>year</th>\n",
       "      <th></th>\n",
       "      <th></th>\n",
       "    </tr>\n",
       "  </thead>\n",
       "  <tbody>\n",
       "    <tr>\n",
       "      <th>1880</th>\n",
       "      <td>38</td>\n",
       "      <td>14</td>\n",
       "    </tr>\n",
       "    <tr>\n",
       "      <th>1881</th>\n",
       "      <td>38</td>\n",
       "      <td>14</td>\n",
       "    </tr>\n",
       "    <tr>\n",
       "      <th>1882</th>\n",
       "      <td>38</td>\n",
       "      <td>15</td>\n",
       "    </tr>\n",
       "    <tr>\n",
       "      <th>1883</th>\n",
       "      <td>39</td>\n",
       "      <td>15</td>\n",
       "    </tr>\n",
       "    <tr>\n",
       "      <th>1884</th>\n",
       "      <td>39</td>\n",
       "      <td>16</td>\n",
       "    </tr>\n",
       "  </tbody>\n",
       "</table>\n",
       "</div>"
      ],
      "text/plain": [
       "sex    F   M\n",
       "year        \n",
       "1880  38  14\n",
       "1881  38  14\n",
       "1882  38  15\n",
       "1883  39  15\n",
       "1884  39  16"
      ]
     },
     "execution_count": 26,
     "metadata": {},
     "output_type": "execute_result"
    }
   ],
   "source": [
    "diversity.head()"
   ]
  },
  {
   "cell_type": "code",
   "execution_count": 27,
   "metadata": {},
   "outputs": [
    {
     "data": {
      "text/plain": [
       "<AxesSubplot:title={'center':'Number of popular names in top 50%'}, xlabel='year'>"
      ]
     },
     "execution_count": 27,
     "metadata": {},
     "output_type": "execute_result"
    },
    {
     "data": {
      "image/png": "[encoded data removed]",
      "text/plain": [
       "<Figure size 432x288 with 1 Axes>"
      ]
     },
     "metadata": {
      "needs_background": "light"
     },
     "output_type": "display_data"
    }
   ],
   "source": [
    "diversity.plot(title=\"Number of popular names in top 50%\")"
   ]
  },
  {
   "cell_type": "code",
   "execution_count": 28,
   "metadata": {},
   "outputs": [],
   "source": [
    "get_lastletter=lambda x: x[-1]\n",
    "last_letters=names.name.map(get_lastletter)\n",
    "last_letters.name='last letter'\n"
   ]
  },
  {
   "cell_type": "code",
   "execution_count": 29,
   "metadata": {},
   "outputs": [],
   "source": [
    "table=names.pivot_table('births' , index=last_letters, columns=['sex','year'], aggfunc=sum)"
   ]
  },
  {
   "cell_type": "code",
   "execution_count": 30,
   "metadata": {},
   "outputs": [
    {
     "data": {
      "text/html": [
       "<div>\n",
       "<style scoped>\n",
       "    .dataframe tbody tr th:only-of-type {\n",
       "        vertical-align: middle;\n",
       "    }\n",
       "\n",
       "    .dataframe tbody tr th {\n",
       "        vertical-align: top;\n",
       "    }\n",
       "\n",
       "    .dataframe thead tr th {\n",
       "        text-align: left;\n",
       "    }\n",
       "\n",
       "    .dataframe thead tr:last-of-type th {\n",
       "        text-align: right;\n",
       "    }\n",
       "</style>\n",
       "<table border=\"1\" class=\"dataframe\">\n",
       "  <thead>\n",
       "    <tr>\n",
       "      <th>sex</th>\n",
       "      <th colspan=\"3\" halign=\"left\">F</th>\n",
       "      <th colspan=\"3\" halign=\"left\">M</th>\n",
       "    </tr>\n",
       "    <tr>\n",
       "      <th>year</th>\n",
       "      <th>1910</th>\n",
       "      <th>1960</th>\n",
       "      <th>2010</th>\n",
       "      <th>1910</th>\n",
       "      <th>1960</th>\n",
       "      <th>2010</th>\n",
       "    </tr>\n",
       "    <tr>\n",
       "      <th>last letter</th>\n",
       "      <th></th>\n",
       "      <th></th>\n",
       "      <th></th>\n",
       "      <th></th>\n",
       "      <th></th>\n",
       "      <th></th>\n",
       "    </tr>\n",
       "  </thead>\n",
       "  <tbody>\n",
       "    <tr>\n",
       "      <th>a</th>\n",
       "      <td>108399.0</td>\n",
       "      <td>691261.0</td>\n",
       "      <td>676865.0</td>\n",
       "      <td>977.0</td>\n",
       "      <td>5212.0</td>\n",
       "      <td>28868.0</td>\n",
       "    </tr>\n",
       "    <tr>\n",
       "      <th>b</th>\n",
       "      <td>NaN</td>\n",
       "      <td>694.0</td>\n",
       "      <td>455.0</td>\n",
       "      <td>411.0</td>\n",
       "      <td>3912.0</td>\n",
       "      <td>39276.0</td>\n",
       "    </tr>\n",
       "    <tr>\n",
       "      <th>c</th>\n",
       "      <td>5.0</td>\n",
       "      <td>49.0</td>\n",
       "      <td>956.0</td>\n",
       "      <td>482.0</td>\n",
       "      <td>15454.0</td>\n",
       "      <td>23348.0</td>\n",
       "    </tr>\n",
       "    <tr>\n",
       "      <th>d</th>\n",
       "      <td>6751.0</td>\n",
       "      <td>3731.0</td>\n",
       "      <td>2642.0</td>\n",
       "      <td>22113.0</td>\n",
       "      <td>262116.0</td>\n",
       "      <td>44828.0</td>\n",
       "    </tr>\n",
       "    <tr>\n",
       "      <th>e</th>\n",
       "      <td>133601.0</td>\n",
       "      <td>435030.0</td>\n",
       "      <td>316764.0</td>\n",
       "      <td>28665.0</td>\n",
       "      <td>178768.0</td>\n",
       "      <td>130253.0</td>\n",
       "    </tr>\n",
       "    <tr>\n",
       "      <th>f</th>\n",
       "      <td>NaN</td>\n",
       "      <td>20.0</td>\n",
       "      <td>97.0</td>\n",
       "      <td>152.0</td>\n",
       "      <td>9230.0</td>\n",
       "      <td>2312.0</td>\n",
       "    </tr>\n",
       "    <tr>\n",
       "      <th>g</th>\n",
       "      <td>57.0</td>\n",
       "      <td>318.0</td>\n",
       "      <td>669.0</td>\n",
       "      <td>439.0</td>\n",
       "      <td>20230.0</td>\n",
       "      <td>2696.0</td>\n",
       "    </tr>\n",
       "    <tr>\n",
       "      <th>h</th>\n",
       "      <td>20432.0</td>\n",
       "      <td>73241.0</td>\n",
       "      <td>134877.0</td>\n",
       "      <td>8849.0</td>\n",
       "      <td>80840.0</td>\n",
       "      <td>99303.0</td>\n",
       "    </tr>\n",
       "    <tr>\n",
       "      <th>i</th>\n",
       "      <td>605.0</td>\n",
       "      <td>80814.0</td>\n",
       "      <td>56276.0</td>\n",
       "      <td>164.0</td>\n",
       "      <td>1295.0</td>\n",
       "      <td>43447.0</td>\n",
       "    </tr>\n",
       "    <tr>\n",
       "      <th>j</th>\n",
       "      <td>NaN</td>\n",
       "      <td>NaN</td>\n",
       "      <td>165.0</td>\n",
       "      <td>NaN</td>\n",
       "      <td>NaN</td>\n",
       "      <td>1479.0</td>\n",
       "    </tr>\n",
       "  </tbody>\n",
       "</table>\n",
       "</div>"
      ],
      "text/plain": [
       "sex                 F                            M                    \n",
       "year             1910      1960      2010     1910      1960      2010\n",
       "last letter                                                           \n",
       "a            108399.0  691261.0  676865.0    977.0    5212.0   28868.0\n",
       "b                 NaN     694.0     455.0    411.0    3912.0   39276.0\n",
       "c                 5.0      49.0     956.0    482.0   15454.0   23348.0\n",
       "d              6751.0    3731.0    2642.0  22113.0  262116.0   44828.0\n",
       "e            133601.0  435030.0  316764.0  28665.0  178768.0  130253.0\n",
       "f                 NaN      20.0      97.0    152.0    9230.0    2312.0\n",
       "g                57.0     318.0     669.0    439.0   20230.0    2696.0\n",
       "h             20432.0   73241.0  134877.0   8849.0   80840.0   99303.0\n",
       "i               605.0   80814.0   56276.0    164.0    1295.0   43447.0\n",
       "j                 NaN       NaN     165.0      NaN       NaN    1479.0"
      ]
     },
     "execution_count": 30,
     "metadata": {},
     "output_type": "execute_result"
    }
   ],
   "source": [
    "sutable=table.reindex(columns=[1910,1960,2010],level='year' )\n",
    "sutable[:10]"
   ]
  },
  {
   "cell_type": "code",
   "execution_count": 31,
   "metadata": {},
   "outputs": [
    {
     "data": {
      "text/plain": [
       "sex  year\n",
       "F    1910     396505.0\n",
       "     1960    2022010.0\n",
       "     2010    1775345.0\n",
       "M    1910     194212.0\n",
       "     1960    2132155.0\n",
       "     2010    1916476.0\n",
       "dtype: float64"
      ]
     },
     "execution_count": 31,
     "metadata": {},
     "output_type": "execute_result"
    }
   ],
   "source": [
    "sutable.sum()"
   ]
  },
  {
   "cell_type": "code",
   "execution_count": 32,
   "metadata": {},
   "outputs": [],
   "source": [
    "letter_prop=sutable/sutable.sum().astype(float)"
   ]
  },
  {
   "cell_type": "code",
   "execution_count": 33,
   "metadata": {},
   "outputs": [],
   "source": [
    "%matplotlib inline\n",
    "\n",
    "import matplotlib\n",
    "import numpy as np\n",
    "import matplotlib.pyplot as plt"
   ]
  },
  {
   "cell_type": "code",
   "execution_count": 34,
   "metadata": {},
   "outputs": [
    {
     "data": {
      "text/plain": [
       "<AxesSubplot:title={'center':'Female'}, xlabel='last letter'>"
      ]
     },
     "execution_count": 34,
     "metadata": {},
     "output_type": "execute_result"
    },
    {
     "data": {
      "image/png": "[encoded data removed]",
      "text/plain": [
       "<Figure size 720x576 with 2 Axes>"
      ]
     },
     "metadata": {
      "needs_background": "light"
     },
     "output_type": "display_data"
    }
   ],
   "source": [
    "fig,axes=plt.subplots(2,1, figsize=(10,8))\n",
    "letter_prop['M'].plot(kind='bar',rot=0, ax=axes[0],title='Male')\n",
    "letter_prop['F'].plot(kind='bar',rot=0,ax=axes[1],title='Female',legend=False)"
   ]
  },
  {
   "cell_type": "code",
   "execution_count": 39,
   "metadata": {},
   "outputs": [],
   "source": [
    "letter_prop=table/table.sum().astype(float)"
   ]
  },
  {
   "cell_type": "code",
   "execution_count": 40,
   "metadata": {},
   "outputs": [],
   "source": [
    "dny_ts=letter_prop.loc[['d','n','y'], 'M'].T"
   ]
  },
  {
   "cell_type": "code",
   "execution_count": 43,
   "metadata": {},
   "outputs": [
    {
     "data": {
      "text/html": [
       "<div>\n",
       "<style scoped>\n",
       "    .dataframe tbody tr th:only-of-type {\n",
       "        vertical-align: middle;\n",
       "    }\n",
       "\n",
       "    .dataframe tbody tr th {\n",
       "        vertical-align: top;\n",
       "    }\n",
       "\n",
       "    .dataframe thead th {\n",
       "        text-align: right;\n",
       "    }\n",
       "</style>\n",
       "<table border=\"1\" class=\"dataframe\">\n",
       "  <thead>\n",
       "    <tr style=\"text-align: right;\">\n",
       "      <th>last letter</th>\n",
       "      <th>d</th>\n",
       "      <th>n</th>\n",
       "      <th>y</th>\n",
       "    </tr>\n",
       "    <tr>\n",
       "      <th>year</th>\n",
       "      <th></th>\n",
       "      <th></th>\n",
       "      <th></th>\n",
       "    </tr>\n",
       "  </thead>\n",
       "  <tbody>\n",
       "    <tr>\n",
       "      <th>1880</th>\n",
       "      <td>0.083057</td>\n",
       "      <td>0.153217</td>\n",
       "      <td>0.075763</td>\n",
       "    </tr>\n",
       "    <tr>\n",
       "      <th>1881</th>\n",
       "      <td>0.083242</td>\n",
       "      <td>0.153212</td>\n",
       "      <td>0.077455</td>\n",
       "    </tr>\n",
       "    <tr>\n",
       "      <th>1882</th>\n",
       "      <td>0.085332</td>\n",
       "      <td>0.149561</td>\n",
       "      <td>0.077538</td>\n",
       "    </tr>\n",
       "    <tr>\n",
       "      <th>1883</th>\n",
       "      <td>0.084053</td>\n",
       "      <td>0.151656</td>\n",
       "      <td>0.079149</td>\n",
       "    </tr>\n",
       "    <tr>\n",
       "      <th>1884</th>\n",
       "      <td>0.086122</td>\n",
       "      <td>0.149927</td>\n",
       "      <td>0.080408</td>\n",
       "    </tr>\n",
       "  </tbody>\n",
       "</table>\n",
       "</div>"
      ],
      "text/plain": [
       "last letter         d         n         y\n",
       "year                                     \n",
       "1880         0.083057  0.153217  0.075763\n",
       "1881         0.083242  0.153212  0.077455\n",
       "1882         0.085332  0.149561  0.077538\n",
       "1883         0.084053  0.151656  0.079149\n",
       "1884         0.086122  0.149927  0.080408"
      ]
     },
     "execution_count": 43,
     "metadata": {},
     "output_type": "execute_result"
    }
   ],
   "source": [
    "dny_ts.head()"
   ]
  },
  {
   "cell_type": "code",
   "execution_count": 44,
   "metadata": {},
   "outputs": [
    {
     "data": {
      "text/plain": [
       "<AxesSubplot:xlabel='year'>"
      ]
     },
     "execution_count": 44,
     "metadata": {},
     "output_type": "execute_result"
    },
    {
     "data": {
      "image/png": "[encoded data removed]",
      "text/plain": [
       "<Figure size 432x288 with 1 Axes>"
      ]
     },
     "metadata": {
      "needs_background": "light"
     },
     "output_type": "display_data"
    }
   ],
   "source": [
    "dny_ts.plot()"
   ]
  },
  {
   "cell_type": "code",
   "execution_count": 48,
   "metadata": {},
   "outputs": [
    {
     "data": {
      "text/plain": [
       "array(['Leslie', 'Lesley', 'Leslee', 'Lesli', 'Lesly'], dtype=object)"
      ]
     },
     "execution_count": 48,
     "metadata": {},
     "output_type": "execute_result"
    }
   ],
   "source": [
    "all_names=top1000.name.unique()\n",
    "mask=np.array(['lesl' in x.lower() for x in all_names])\n",
    "lesley_like=all_names[mask]\n",
    "lesley_like"
   ]
  },
  {
   "cell_type": "code",
   "execution_count": 50,
   "metadata": {},
   "outputs": [
    {
     "data": {
      "text/plain": [
       "name\n",
       "Leslee       993\n",
       "Lesley     35033\n",
       "Lesli        929\n",
       "Leslie    370568\n",
       "Lesly      10072\n",
       "Name: births, dtype: int64"
      ]
     },
     "execution_count": 50,
     "metadata": {},
     "output_type": "execute_result"
    }
   ],
   "source": [
    "filtered=top1000[top1000.name.isin(lesley_like)]\n",
    "filtered.groupby('name').births.sum()"
   ]
  },
  {
   "cell_type": "code",
   "execution_count": 52,
   "metadata": {},
   "outputs": [],
   "source": [
    "table=filtered.pivot_table('births' ,index='year' ,columns='sex' ,aggfunc=sum)"
   ]
  },
  {
   "cell_type": "code",
   "execution_count": 55,
   "metadata": {},
   "outputs": [],
   "source": [
    "table=table.div(table.sum(1),axis=0)"
   ]
  },
  {
   "cell_type": "code",
   "execution_count": 56,
   "metadata": {},
   "outputs": [
    {
     "data": {
      "text/html": [
       "<div>\n",
       "<style scoped>\n",
       "    .dataframe tbody tr th:only-of-type {\n",
       "        vertical-align: middle;\n",
       "    }\n",
       "\n",
       "    .dataframe tbody tr th {\n",
       "        vertical-align: top;\n",
       "    }\n",
       "\n",
       "    .dataframe thead th {\n",
       "        text-align: right;\n",
       "    }\n",
       "</style>\n",
       "<table border=\"1\" class=\"dataframe\">\n",
       "  <thead>\n",
       "    <tr style=\"text-align: right;\">\n",
       "      <th>sex</th>\n",
       "      <th>F</th>\n",
       "      <th>M</th>\n",
       "    </tr>\n",
       "    <tr>\n",
       "      <th>year</th>\n",
       "      <th></th>\n",
       "      <th></th>\n",
       "    </tr>\n",
       "  </thead>\n",
       "  <tbody>\n",
       "    <tr>\n",
       "      <th>2006</th>\n",
       "      <td>1.0</td>\n",
       "      <td>NaN</td>\n",
       "    </tr>\n",
       "    <tr>\n",
       "      <th>2007</th>\n",
       "      <td>1.0</td>\n",
       "      <td>NaN</td>\n",
       "    </tr>\n",
       "    <tr>\n",
       "      <th>2008</th>\n",
       "      <td>1.0</td>\n",
       "      <td>NaN</td>\n",
       "    </tr>\n",
       "    <tr>\n",
       "      <th>2009</th>\n",
       "      <td>1.0</td>\n",
       "      <td>NaN</td>\n",
       "    </tr>\n",
       "    <tr>\n",
       "      <th>2010</th>\n",
       "      <td>1.0</td>\n",
       "      <td>NaN</td>\n",
       "    </tr>\n",
       "  </tbody>\n",
       "</table>\n",
       "</div>"
      ],
      "text/plain": [
       "sex     F   M\n",
       "year         \n",
       "2006  1.0 NaN\n",
       "2007  1.0 NaN\n",
       "2008  1.0 NaN\n",
       "2009  1.0 NaN\n",
       "2010  1.0 NaN"
      ]
     },
     "execution_count": 56,
     "metadata": {},
     "output_type": "execute_result"
    }
   ],
   "source": [
    "table.tail()"
   ]
  },
  {
   "cell_type": "code",
   "execution_count": 57,
   "metadata": {},
   "outputs": [
    {
     "data": {
      "text/plain": [
       "<AxesSubplot:xlabel='year'>"
      ]
     },
     "execution_count": 57,
     "metadata": {},
     "output_type": "execute_result"
    },
    {
     "data": {
      "image/png": "[encoded data removed]",
      "text/plain": [
       "<Figure size 432x288 with 1 Axes>"
      ]
     },
     "metadata": {
      "needs_background": "light"
     },
     "output_type": "display_data"
    }
   ],
   "source": [
    "table.plot(style={'M': 'k-' , 'F':'k--'})"
   ]
  }
 ],
 "metadata": {
  "kernelspec": {
   "display_name": "Python 3",
   "language": "python",
   "name": "python3"
  },
  "language_info": {
   "codemirror_mode": {
    "name": "ipython",
    "version": 3
   },
   "file_extension": ".py",
   "mimetype": "text/x-python",
   "name": "python",
   "nbconvert_exporter": "python",
   "pygments_lexer": "ipython3",
   "version": "3.7.3"
  }
 },
 "nbformat": 4,
 "nbformat_minor": 2
}
